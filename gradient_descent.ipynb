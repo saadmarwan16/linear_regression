{
  "nbformat": 4,
  "nbformat_minor": 0,
  "metadata": {
    "colab": {
      "name": "gradient_descent.ipynb",
      "provenance": [],
      "authorship_tag": "ABX9TyN3Z3Lm/yMhOWpSbD9zJq8+",
      "include_colab_link": true
    },
    "kernelspec": {
      "name": "python3",
      "display_name": "Python 3"
    },
    "language_info": {
      "name": "python"
    }
  },
  "cells": [
    {
      "cell_type": "markdown",
      "metadata": {
        "id": "view-in-github",
        "colab_type": "text"
      },
      "source": [
        "<a href=\"https://colab.research.google.com/github/saadmarwan16/linear_regression/blob/main/gradient_descent.ipynb\" target=\"_parent\"><img src=\"https://colab.research.google.com/assets/colab-badge.svg\" alt=\"Open In Colab\"/></a>"
      ]
    },
    {
      "cell_type": "code",
      "metadata": {
        "id": "HKKHzaDTT23I"
      },
      "source": [
        "import numpy as np\n",
        "import matplotlib.pyplot as plt"
      ],
      "execution_count": 1,
      "outputs": []
    },
    {
      "cell_type": "code",
      "metadata": {
        "id": "TNenwPnkUH8E"
      },
      "source": [
        "N = 10\n",
        "D = 3"
      ],
      "execution_count": 2,
      "outputs": []
    },
    {
      "cell_type": "code",
      "metadata": {
        "colab": {
          "base_uri": "https://localhost:8080/"
        },
        "id": "M8VPoZWxUL9t",
        "outputId": "19d7f447-93ee-4b40-b074-19c5555e3892"
      },
      "source": [
        "X = np.zeros((N, D))\n",
        "X[:, 0] = 1\n",
        "X[:5, 1] = 1\n",
        "X[5:, 2] = 1\n",
        "X"
      ],
      "execution_count": 3,
      "outputs": [
        {
          "output_type": "execute_result",
          "data": {
            "text/plain": [
              "array([[1., 1., 0.],\n",
              "       [1., 1., 0.],\n",
              "       [1., 1., 0.],\n",
              "       [1., 1., 0.],\n",
              "       [1., 1., 0.],\n",
              "       [1., 0., 1.],\n",
              "       [1., 0., 1.],\n",
              "       [1., 0., 1.],\n",
              "       [1., 0., 1.],\n",
              "       [1., 0., 1.]])"
            ]
          },
          "metadata": {
            "tags": []
          },
          "execution_count": 3
        }
      ]
    },
    {
      "cell_type": "code",
      "metadata": {
        "colab": {
          "base_uri": "https://localhost:8080/"
        },
        "id": "f4gu2ccXUj0m",
        "outputId": "e1288b56-127b-4f77-968a-094756047737"
      },
      "source": [
        "Y = np.array([0]*5 + [1]*5)\n",
        "Y"
      ],
      "execution_count": 4,
      "outputs": [
        {
          "output_type": "execute_result",
          "data": {
            "text/plain": [
              "array([0, 0, 0, 0, 0, 1, 1, 1, 1, 1])"
            ]
          },
          "metadata": {
            "tags": []
          },
          "execution_count": 4
        }
      ]
    },
    {
      "cell_type": "code",
      "metadata": {
        "id": "ePuYSpzgUw8F"
      },
      "source": [
        "# This will cause a singular matrix error since X.T.dot(X) is undefined because X.T.dot(X) cannot be inverted\n",
        "# w = np.linalg.solve(X.T.dot(X), X.T.dot(Y))\n",
        "\n",
        "# Gradient descent is the go to in order to solve this problem"
      ],
      "execution_count": 5,
      "outputs": []
    },
    {
      "cell_type": "code",
      "metadata": {
        "id": "gGy5qVxFVG5L"
      },
      "source": [
        "costs = list()\n",
        "\n",
        "w = np.random.randn(D) / np.sqrt(D)\n",
        "learning_rate = 0.001\n",
        "\n",
        "for i in range(1000):\n",
        "    Yhat = X.dot(w)\n",
        "    delta = Yhat - Y\n",
        "    w = w - learning_rate*X.T.dot(delta)\n",
        "    mse = delta.dot(delta) / N\n",
        "    costs.append(mse)"
      ],
      "execution_count": 6,
      "outputs": []
    },
    {
      "cell_type": "code",
      "metadata": {
        "colab": {
          "base_uri": "https://localhost:8080/",
          "height": 265
        },
        "id": "GpFwY9RjWWYh",
        "outputId": "489282a4-2cba-4c49-9806-fec4fb873baf"
      },
      "source": [
        "plt.plot(costs);"
      ],
      "execution_count": 7,
      "outputs": [
        {
          "output_type": "display_data",
          "data": {
            "image/png": "[encoded data removed]",
            "text/plain": [
              "<Figure size 432x288 with 1 Axes>"
            ]
          },
          "metadata": {
            "tags": [],
            "needs_background": "light"
          }
        }
      ]
    },
    {
      "cell_type": "code",
      "metadata": {
        "colab": {
          "base_uri": "https://localhost:8080/"
        },
        "id": "bGmaqT2-WYvS",
        "outputId": "d2ed3fe2-0439-4705-da80-cac7756f3976"
      },
      "source": [
        "w"
      ],
      "execution_count": 8,
      "outputs": [
        {
          "output_type": "execute_result",
          "data": {
            "text/plain": [
              "array([ 0.75374443, -0.75250953,  0.24502032])"
            ]
          },
          "metadata": {
            "tags": []
          },
          "execution_count": 8
        }
      ]
    },
    {
      "cell_type": "code",
      "metadata": {
        "colab": {
          "base_uri": "https://localhost:8080/",
          "height": 265
        },
        "id": "eKNf6C9UWbgq",
        "outputId": "d1676249-0761-4cef-f418-0532aab7ed4b"
      },
      "source": [
        "plt.plot(Yhat, label='predictions')\n",
        "plt.plot(Y, label='targets')\n",
        "plt.legend();"
      ],
      "execution_count": 9,
      "outputs": [
        {
          "output_type": "display_data",
          "data": {
            "image/png": "[encoded data removed]",
            "text/plain": [
              "<Figure size 432x288 with 1 Axes>"
            ]
          },
          "metadata": {
            "tags": [],
            "needs_background": "light"
          }
        }
      ]
    },
    {
      "cell_type": "code",
      "metadata": {
        "id": "xcqmQIqKWvQr"
      },
      "source": [
        ""
      ],
      "execution_count": 9,
      "outputs": []
    }
  ]
}