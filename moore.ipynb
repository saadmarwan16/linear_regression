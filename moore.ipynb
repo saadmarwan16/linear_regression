{
  "nbformat": 4,
  "nbformat_minor": 0,
  "metadata": {
    "colab": {
      "name": "moore.ipynb",
      "provenance": [],
      "authorship_tag": "ABX9TyNduf7hIMfbYwi5xm1T5ZjR",
      "include_colab_link": true
    },
    "kernelspec": {
      "name": "python3",
      "display_name": "Python 3"
    },
    "language_info": {
      "name": "python"
    }
  },
  "cells": [
    {
      "cell_type": "markdown",
      "metadata": {
        "id": "view-in-github",
        "colab_type": "text"
      },
      "source": [
        "<a href=\"https://colab.research.google.com/github/saadmarwan16/linear_regression/blob/main/moore.ipynb\" target=\"_parent\"><img src=\"https://colab.research.google.com/assets/colab-badge.svg\" alt=\"Open In Colab\"/></a>"
      ]
    },
    {
      "cell_type": "code",
      "metadata": {
        "id": "qv7Gh4z55_Q1"
      },
      "source": [
        "import re\n",
        "import numpy as np\n",
        "import matplotlib.pyplot as plt"
      ],
      "execution_count": 1,
      "outputs": []
    },
    {
      "cell_type": "code",
      "metadata": {
        "id": "2gsAUS2K6Oou"
      },
      "source": [
        "X = list()\n",
        "Y = list()"
      ],
      "execution_count": 2,
      "outputs": []
    },
    {
      "cell_type": "code",
      "metadata": {
        "id": "0ySm-1X66S88"
      },
      "source": [
        "non_decimal = re.compile(r'[^\\d]+')\n",
        "\n",
        "for line in open('moore.csv'):\n",
        "    r = line.split('\\t')\n",
        "\n",
        "    x = int(non_decimal.sub('', r[2].split('[')[0]))\n",
        "    y = int(non_decimal.sub('', r[1].split('[')[0]))\n",
        "    X.append(x)\n",
        "    Y.append(y)"
      ],
      "execution_count": 3,
      "outputs": []
    },
    {
      "cell_type": "code",
      "metadata": {
        "colab": {
          "base_uri": "https://localhost:8080/",
          "height": 276
        },
        "id": "5kye_He57Q_C",
        "outputId": "adfe368a-ce7b-46ac-c3bb-83696e2ac694"
      },
      "source": [
        "X = np.array(X)\n",
        "Y = np.array(Y)\n",
        "\n",
        "plt.scatter(X, Y);"
      ],
      "execution_count": 4,
      "outputs": [
        {
          "output_type": "display_data",
          "data": {
            "image/png": "[encoded data removed]",
            "text/plain": [
              "<Figure size 432x288 with 1 Axes>"
            ]
          },
          "metadata": {
            "tags": [],
            "needs_background": "light"
          }
        }
      ]
    },
    {
      "cell_type": "code",
      "metadata": {
        "colab": {
          "base_uri": "https://localhost:8080/",
          "height": 265
        },
        "id": "d5dr5XWv_y3A",
        "outputId": "ecf6c42e-f91f-4008-8f08-28d255e1c007"
      },
      "source": [
        "Y = np.log(Y)\n",
        "plt.scatter(X, Y);"
      ],
      "execution_count": 5,
      "outputs": [
        {
          "output_type": "display_data",
          "data": {
            "image/png": "[encoded data removed]",
            "text/plain": [
              "<Figure size 432x288 with 1 Axes>"
            ]
          },
          "metadata": {
            "tags": [],
            "needs_background": "light"
          }
        }
      ]
    },
    {
      "cell_type": "code",
      "metadata": {
        "colab": {
          "base_uri": "https://localhost:8080/",
          "height": 265
        },
        "id": "YVmXRKaC_33q",
        "outputId": "4b7a9b8b-5be5-491f-95ca-8a0814cc6665"
      },
      "source": [
        "denominator = X.dot(X) - X.mean() * X.sum()\n",
        "a = (X.dot(Y) - Y.mean() * X.sum()) / denominator\n",
        "b = (Y.mean() * X.dot(X) - X.mean() * X.dot(Y)) / denominator\n",
        "\n",
        "Yhat = a * X + b\n",
        "plt.scatter(X, Y)\n",
        "plt.plot(X, Yhat);"
      ],
      "execution_count": 6,
      "outputs": [
        {
          "output_type": "display_data",
          "data": {
            "image/png": "[encoded data removed]",
            "text/plain": [
              "<Figure size 432x288 with 1 Axes>"
            ]
          },
          "metadata": {
            "tags": [],
            "needs_background": "light"
          }
        }
      ]
    },
    {
      "cell_type": "code",
      "metadata": {
        "colab": {
          "base_uri": "https://localhost:8080/"
        },
        "id": "oGjFxCYP_74V",
        "outputId": "6340568f-dc90-4f6d-fcfc-36003209b32f"
      },
      "source": [
        "d1 = Y - Yhat\n",
        "d2 = Y - Y.mean()\n",
        "r2 = 1 - d1.dot(d1) / d2.dot(d2)\n",
        "print(\"a:\", a, \"b:\", b)\n",
        "print(f\"The r-squared value is: {r2}\")"
      ],
      "execution_count": 7,
      "outputs": [
        {
          "output_type": "stream",
          "text": [
            "a: 0.35104357336499337 b: -685.0002843816548\n",
            "The r-squared value is: 0.9529442852285758\n"
          ],
          "name": "stdout"
        }
      ]
    },
    {
      "cell_type": "code",
      "metadata": {
        "colab": {
          "base_uri": "https://localhost:8080/"
        },
        "id": "ZkREN8Wp_95-",
        "outputId": "e7dcff05-d8a6-40e5-96ee-d7f6f5624f01"
      },
      "source": [
        "print(f\"time to double: {np.log(2) / a} years\")"
      ],
      "execution_count": 8,
      "outputs": [
        {
          "output_type": "stream",
          "text": [
            "time to double: 1.974533172379868 years\n"
          ],
          "name": "stdout"
        }
      ]
    },
    {
      "cell_type": "code",
      "metadata": {
        "id": "-XkfjbwIALsp"
      },
      "source": [
        ""
      ],
      "execution_count": 8,
      "outputs": []
    }
  ]
}