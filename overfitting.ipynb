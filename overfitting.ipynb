{
  "nbformat": 4,
  "nbformat_minor": 0,
  "metadata": {
    "colab": {
      "name": "overfitting.ipynb",
      "provenance": [],
      "collapsed_sections": [],
      "authorship_tag": "ABX9TyNRWpmkmRXMoXUZ5rG6tqVm",
      "include_colab_link": true
    },
    "kernelspec": {
      "name": "python3",
      "display_name": "Python 3"
    },
    "language_info": {
      "name": "python"
    }
  },
  "cells": [
    {
      "cell_type": "markdown",
      "metadata": {
        "id": "view-in-github",
        "colab_type": "text"
      },
      "source": [
        "<a href=\"https://colab.research.google.com/github/saadmarwan16/linear_regression/blob/main/overfitting.ipynb\" target=\"_parent\"><img src=\"https://colab.research.google.com/assets/colab-badge.svg\" alt=\"Open In Colab\"/></a>"
      ]
    },
    {
      "cell_type": "code",
      "metadata": {
        "id": "9jk5KRZ3L9Cd"
      },
      "source": [
        "import numpy as np\n",
        "import matplotlib.pyplot as plt"
      ],
      "execution_count": 1,
      "outputs": []
    },
    {
      "cell_type": "code",
      "metadata": {
        "id": "anErrblNMxVU"
      },
      "source": [
        "N = 100\n",
        "X = np.linspace(0, 6*np.pi, N)\n",
        "Y = np.sin(X)"
      ],
      "execution_count": 2,
      "outputs": []
    },
    {
      "cell_type": "code",
      "metadata": {
        "colab": {
          "base_uri": "https://localhost:8080/",
          "height": 265
        },
        "id": "2by1plgFM_mp",
        "outputId": "6687e948-dbde-47e1-ab72-ab09394670a0"
      },
      "source": [
        "plt.plot(X, Y);"
      ],
      "execution_count": 3,
      "outputs": [
        {
          "output_type": "display_data",
          "data": {
            "image/png": "[encoded data removed]",
            "text/plain": [
              "<Figure size 432x288 with 1 Axes>"
            ]
          },
          "metadata": {
            "tags": [],
            "needs_background": "light"
          }
        }
      ]
    },
    {
      "cell_type": "code",
      "metadata": {
        "id": "tWSAx1wWNI4-"
      },
      "source": [
        "def make_poly(X, deg):\n",
        "    n = len(X)\n",
        "    data = [np.ones(n)]\n",
        "\n",
        "    for d in range(deg):\n",
        "        data.append(X**(d+1))\n",
        "\n",
        "    return np.vstack(data).T"
      ],
      "execution_count": 4,
      "outputs": []
    },
    {
      "cell_type": "code",
      "metadata": {
        "id": "I31YBD7VO2b1"
      },
      "source": [
        "def fit(X, Y):\n",
        "    return np.linalg.solve(X.T.dot(X), X.T.dot(Y))"
      ],
      "execution_count": 5,
      "outputs": []
    },
    {
      "cell_type": "code",
      "metadata": {
        "id": "sN0r38LpPLmP"
      },
      "source": [
        "def fit_and_display(X, Y, sample, deg):\n",
        "    N = len(X)\n",
        "    train_idx = np.random.choice(N, sample)\n",
        "    Xtrain = X[train_idx]\n",
        "    Ytrain = Y[train_idx]\n",
        "\n",
        "    plt.scatter(Xtrain, Ytrain)\n",
        "    \n",
        "    Xtrain_poly = make_poly(Xtrain, deg)\n",
        "    w = fit(Xtrain_poly, Ytrain)\n",
        "\n",
        "    X_poly = make_poly(X, deg)\n",
        "    Y_hat = X_poly.dot(w)\n",
        "    plt.plot(X, Y)\n",
        "    plt.plot(X, Y_hat)\n",
        "    plt.scatter(Xtrain, Ytrain)\n",
        "    plt.title(\"deg = %d\" %deg)"
      ],
      "execution_count": 6,
      "outputs": []
    },
    {
      "cell_type": "code",
      "metadata": {
        "id": "5Ys0oGc1Sm4L"
      },
      "source": [
        "def get_mse(Y, Yhat):\n",
        "    d = Y - Yhat\n",
        "    return d.dot(d) / len(d)"
      ],
      "execution_count": 7,
      "outputs": []
    },
    {
      "cell_type": "code",
      "metadata": {
        "id": "9aQCquFtUq9R"
      },
      "source": [
        "def plot_train_vs_test_curves(X, Y, sample=20, max_deg=20):\n",
        "    N = len(X)\n",
        "    train_idx = np.random.choice(N, sample)\n",
        "    Xtrain = X[train_idx]\n",
        "    Ytrain = Y[train_idx]\n",
        "\n",
        "    test_idx = [idx for idx in range(N) if idx not in train_idx]\n",
        "\n",
        "    Xtest = X[test_idx]\n",
        "    Ytest = Y[test_idx]\n",
        "\n",
        "    mse_trains = list()\n",
        "    mse_tests = list()\n",
        "\n",
        "    for deg in range(max_deg+1):\n",
        "        Xtrain_poly = make_poly(Xtrain, deg)\n",
        "        w = fit(Xtrain_poly, Ytrain)\n",
        "        Yhat_train = Xtrain_poly.dot(w)\n",
        "        mse_train = get_mse(Ytrain, Yhat_train)\n",
        "\n",
        "        Xtest_poly = make_poly(Xtest, deg)\n",
        "        Yhat_test = Xtest_poly.dot(w)\n",
        "        mse_test = get_mse(Ytest, Yhat_test)\n",
        "\n",
        "        mse_trains.append(mse_train)\n",
        "        mse_tests.append(mse_test)\n",
        "\n",
        "    plt.plot(mse_trains, label=\"train mse\")\n",
        "    plt.plot(mse_tests, label=\"test mse\")\n",
        "    plt.legend()\n",
        "\n",
        "    # plt.plot(mse_trains, label=\"train mse\")\n",
        "    plt.legend()"
      ],
      "execution_count": 8,
      "outputs": []
    },
    {
      "cell_type": "code",
      "metadata": {
        "colab": {
          "base_uri": "https://localhost:8080/",
          "height": 281
        },
        "id": "Ld5l6zNRXHrL",
        "outputId": "e09835ec-0a10-4299-ede9-f61c270f1d0f"
      },
      "source": [
        "if __name__ == '__main__':\n",
        "    N = 100\n",
        "    X = np.linspace(0, 6*np.pi, N)\n",
        "    Y = np.sin(X)\n",
        "\n",
        "    plt.plot(X, Y)\n",
        "\n",
        "    for deg in (5, 6, 7, 8, 9):\n",
        "        fit_and_display(X, Y, 10, deg)\n",
        "\n",
        "    plot_train_vs_test_curves(X, Y)"
      ],
      "execution_count": 9,
      "outputs": [
        {
          "output_type": "display_data",
          "data": {
            "image/png": "[encoded data removed]",
            "text/plain": [
              "<Figure size 432x288 with 1 Axes>"
            ]
          },
          "metadata": {
            "tags": [],
            "needs_background": "light"
          }
        }
      ]
    },
    {
      "cell_type": "code",
      "metadata": {
        "id": "ytCDRFYBXuPp"
      },
      "source": [
        ""
      ],
      "execution_count": 9,
      "outputs": []
    }
  ]
}