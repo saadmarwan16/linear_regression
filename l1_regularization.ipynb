{
  "nbformat": 4,
  "nbformat_minor": 0,
  "metadata": {
    "colab": {
      "name": "l1_regularization.ipynb",
      "provenance": [],
      "authorship_tag": "ABX9TyPSGruG3KqI+PL0W7FDepPy",
      "include_colab_link": true
    },
    "kernelspec": {
      "name": "python3",
      "display_name": "Python 3"
    },
    "language_info": {
      "name": "python"
    }
  },
  "cells": [
    {
      "cell_type": "markdown",
      "metadata": {
        "id": "view-in-github",
        "colab_type": "text"
      },
      "source": [
        "<a href=\"https://colab.research.google.com/github/saadmarwan16/linear_regression/blob/main/l1_regularization.ipynb\" target=\"_parent\"><img src=\"https://colab.research.google.com/assets/colab-badge.svg\" alt=\"Open In Colab\"/></a>"
      ]
    },
    {
      "cell_type": "code",
      "metadata": {
        "id": "7PUEpVKKaLgk"
      },
      "source": [
        "import numpy as np\n",
        "import matplotlib.pyplot as plt"
      ],
      "execution_count": 1,
      "outputs": []
    },
    {
      "cell_type": "code",
      "metadata": {
        "id": "qg5bijCQaaUJ"
      },
      "source": [
        "N = 50\n",
        "D = 50"
      ],
      "execution_count": 2,
      "outputs": []
    },
    {
      "cell_type": "code",
      "metadata": {
        "colab": {
          "base_uri": "https://localhost:8080/"
        },
        "id": "deU4bRmSacGI",
        "outputId": "1a4185c5-ebf3-4d02-b3ce-0acf71500fe5"
      },
      "source": [
        "X = (np.random.random((N, D)) - 0.5) * 10\n",
        "X"
      ],
      "execution_count": 3,
      "outputs": [
        {
          "output_type": "execute_result",
          "data": {
            "text/plain": [
              "array([[-4.84282032, -1.27403909, -1.67588463, ...,  4.64788722,\n",
              "        -3.42206151,  4.90533647],\n",
              "       [ 0.29872288,  2.87628524, -4.45065235, ...,  0.10735665,\n",
              "         1.11146625,  2.19596723],\n",
              "       [ 1.77984803,  2.77577881, -1.42256435, ...,  3.56388817,\n",
              "        -0.54674255, -1.65353226],\n",
              "       ...,\n",
              "       [-4.66734748, -1.23288115,  3.21173925, ..., -2.43030534,\n",
              "         1.53984452, -1.04470149],\n",
              "       [ 0.43952949, -2.04073985,  4.53378055, ...,  1.45581874,\n",
              "         4.81717146,  2.59629521],\n",
              "       [-4.13068642, -4.12941165, -2.44793315, ...,  4.74510728,\n",
              "         3.12329072, -4.72734996]])"
            ]
          },
          "metadata": {
            "tags": []
          },
          "execution_count": 3
        }
      ]
    },
    {
      "cell_type": "code",
      "metadata": {
        "colab": {
          "base_uri": "https://localhost:8080/"
        },
        "id": "UEPZr5TPasK5",
        "outputId": "d4435df2-43d3-4c38-f2c5-331d2c48611b"
      },
      "source": [
        "true_w = np.array([1, 0.5, -0.5] + [0]*(D-3))\n",
        "true_w"
      ],
      "execution_count": 4,
      "outputs": [
        {
          "output_type": "execute_result",
          "data": {
            "text/plain": [
              "array([ 1. ,  0.5, -0.5,  0. ,  0. ,  0. ,  0. ,  0. ,  0. ,  0. ,  0. ,\n",
              "        0. ,  0. ,  0. ,  0. ,  0. ,  0. ,  0. ,  0. ,  0. ,  0. ,  0. ,\n",
              "        0. ,  0. ,  0. ,  0. ,  0. ,  0. ,  0. ,  0. ,  0. ,  0. ,  0. ,\n",
              "        0. ,  0. ,  0. ,  0. ,  0. ,  0. ,  0. ,  0. ,  0. ,  0. ,  0. ,\n",
              "        0. ,  0. ,  0. ,  0. ,  0. ,  0. ])"
            ]
          },
          "metadata": {
            "tags": []
          },
          "execution_count": 4
        }
      ]
    },
    {
      "cell_type": "code",
      "metadata": {
        "colab": {
          "base_uri": "https://localhost:8080/"
        },
        "id": "791A4BXnbEWW",
        "outputId": "6272a072-3601-42a3-a303-ac0fce1fe10e"
      },
      "source": [
        "Y = X.dot(true_w) + np.random.random(N) * 0.5\n",
        "Y"
      ],
      "execution_count": 5,
      "outputs": [
        {
          "output_type": "execute_result",
          "data": {
            "text/plain": [
              "array([-4.17858701,  3.9705883 ,  4.29567472, -4.07538046,  3.25747113,\n",
              "        9.62444406, -1.5971047 ,  7.5746893 , -0.29675225,  1.76664345,\n",
              "        5.24959607, -3.74495638,  4.34235608, -2.69106021,  7.74997895,\n",
              "       -1.92534386,  5.77486166,  4.46982917, -2.9912254 , -1.95192984,\n",
              "        2.65379216,  3.51293018,  8.48200004, -4.45056423,  2.84861971,\n",
              "        6.20706524,  2.89120751, -4.56384695, -3.77604876,  3.04029014,\n",
              "        1.1508549 ,  0.70561464,  3.38468424, -1.45756477,  4.23995956,\n",
              "       -2.11968972, -3.56644141, -4.60701599,  8.12300765,  6.1263072 ,\n",
              "       -0.74981719, -2.03767817, -4.01606094,  7.12918476, -0.03464983,\n",
              "       -1.21049038,  1.62565642, -6.5449034 , -2.67028119, -4.4955776 ])"
            ]
          },
          "metadata": {
            "tags": []
          },
          "execution_count": 5
        }
      ]
    },
    {
      "cell_type": "code",
      "metadata": {
        "id": "YdUvwygTbVoS"
      },
      "source": [
        "costs = list()\n",
        "w = np.random.random(D) / np.sqrt(D)\n",
        "learning_rate = 0.001\n",
        "l1 = 10.0\n",
        "\n",
        "for t in range(500):\n",
        "    Yhat = X.dot(w)\n",
        "    delta = Yhat - Y\n",
        "    w = w - learning_rate*(X.T.dot(delta) + l1*np.sign(w))\n",
        "\n",
        "    mse = delta.dot(delta) / N\n",
        "    costs.append(mse)"
      ],
      "execution_count": 6,
      "outputs": []
    },
    {
      "cell_type": "code",
      "metadata": {
        "colab": {
          "base_uri": "https://localhost:8080/",
          "height": 267
        },
        "id": "brpdKgVtccDE",
        "outputId": "eb925465-7128-4129-fa40-539977577d8f"
      },
      "source": [
        "plt.plot(costs);"
      ],
      "execution_count": 7,
      "outputs": [
        {
          "output_type": "display_data",
          "data": {
            "image/png": "[encoded data removed]",
            "text/plain": [
              "<Figure size 432x288 with 1 Axes>"
            ]
          },
          "metadata": {
            "tags": [],
            "needs_background": "light"
          }
        }
      ]
    },
    {
      "cell_type": "code",
      "metadata": {
        "colab": {
          "base_uri": "https://localhost:8080/"
        },
        "id": "NLwgXby7ckeW",
        "outputId": "ac297b77-8d7b-48cf-950b-bc6cf85fe8cf"
      },
      "source": [
        "print(f\"Final w: {w}\")"
      ],
      "execution_count": 8,
      "outputs": [
        {
          "output_type": "stream",
          "text": [
            "Final w: [ 9.72221352e-01  4.76779309e-01 -4.63800140e-01 -1.72631132e-02\n",
            "  2.04584912e-02 -1.74870205e-02 -1.27733186e-02  5.01666073e-03\n",
            " -6.81525780e-03 -6.93747008e-03  1.37862447e-02 -9.31971923e-03\n",
            "  2.69761497e-03 -8.16491273e-03 -3.33359812e-02 -1.92610949e-02\n",
            "  9.81720889e-03  4.48785395e-03  9.50876589e-03  1.28738336e-02\n",
            " -2.98881704e-02  5.70239734e-03  2.26734592e-02  3.16332241e-02\n",
            " -1.65261856e-02  2.15991128e-03 -7.42253522e-03  4.78264070e-03\n",
            "  3.58124215e-03 -6.37027188e-03 -8.99836899e-03 -9.55635369e-04\n",
            "  2.47153044e-02 -4.02272207e-02 -3.41960253e-02  8.58030545e-03\n",
            "  2.33908433e-02 -1.73975702e-04 -6.10980819e-03  4.57459211e-02\n",
            " -6.29020344e-03 -1.18154176e-02  7.41329387e-03 -5.01398968e-04\n",
            " -2.04586253e-02  2.73715333e-02 -2.14600661e-02 -2.34681137e-03\n",
            "  7.14026198e-03 -1.47160551e-03]\n"
          ],
          "name": "stdout"
        }
      ]
    },
    {
      "cell_type": "code",
      "metadata": {
        "colab": {
          "base_uri": "https://localhost:8080/",
          "height": 265
        },
        "id": "8d_STluacq0x",
        "outputId": "0af6d9e6-b89e-4924-be24-26d7067e47a6"
      },
      "source": [
        "plt.plot(true_w, label='true_w')\n",
        "plt.plot(w, label='w_map')\n",
        "plt.legend();"
      ],
      "execution_count": 9,
      "outputs": [
        {
          "output_type": "display_data",
          "data": {
            "image/png": "[encoded data removed]",
            "text/plain": [
              "<Figure size 432x288 with 1 Axes>"
            ]
          },
          "metadata": {
            "tags": [],
            "needs_background": "light"
          }
        }
      ]
    },
    {
      "cell_type": "code",
      "metadata": {
        "id": "NBsxPXNSc3dY"
      },
      "source": [
        ""
      ],
      "execution_count": 9,
      "outputs": []
    }
  ]
}