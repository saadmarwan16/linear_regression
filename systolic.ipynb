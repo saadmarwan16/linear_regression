{
  "nbformat": 4,
  "nbformat_minor": 0,
  "metadata": {
    "colab": {
      "name": "systolic.ipynb",
      "provenance": [],
      "authorship_tag": "ABX9TyOwoS94+muf90A5+OuPiU50",
      "include_colab_link": true
    },
    "kernelspec": {
      "name": "python3",
      "display_name": "Python 3"
    },
    "language_info": {
      "name": "python"
    }
  },
  "cells": [
    {
      "cell_type": "markdown",
      "metadata": {
        "id": "view-in-github",
        "colab_type": "text"
      },
      "source": [
        "<a href=\"https://colab.research.google.com/github/saadmarwan16/linear_regression/blob/main/systolic.ipynb\" target=\"_parent\"><img src=\"https://colab.research.google.com/assets/colab-badge.svg\" alt=\"Open In Colab\"/></a>"
      ]
    },
    {
      "cell_type": "code",
      "metadata": {
        "id": "TTOBFC2EfBRe"
      },
      "source": [
        "import numpy as np\n",
        "import matplotlib.pyplot as plt\n",
        "import pandas as pd"
      ],
      "execution_count": 3,
      "outputs": []
    },
    {
      "cell_type": "code",
      "metadata": {
        "colab": {
          "base_uri": "https://localhost:8080/"
        },
        "id": "m9MZSSAQfNMM",
        "outputId": "eb6a927e-e236-44d9-9d17-637428d8eea0"
      },
      "source": [
        "df = pd.read_excel('mlr02.xls')\n",
        "X = df.values"
      ],
      "execution_count": 10,
      "outputs": [
        {
          "output_type": "stream",
          "text": [
            "*** No CODEPAGE record, no encoding_override: will use 'ascii'\n"
          ],
          "name": "stdout"
        }
      ]
    },
    {
      "cell_type": "code",
      "metadata": {
        "colab": {
          "base_uri": "https://localhost:8080/",
          "height": 269
        },
        "id": "gqFFyXwsfdk6",
        "outputId": "0936aef4-bb4a-4d77-e8a5-7c124c348994"
      },
      "source": [
        "plt.scatter(X[:, 1], X[:, 0]);"
      ],
      "execution_count": 12,
      "outputs": [
        {
          "output_type": "display_data",
          "data": {
            "image/png": "[encoded data removed]",
            "text/plain": [
              "<Figure size 432x288 with 1 Axes>"
            ]
          },
          "metadata": {
            "tags": [],
            "needs_background": "light"
          }
        }
      ]
    },
    {
      "cell_type": "code",
      "metadata": {
        "colab": {
          "base_uri": "https://localhost:8080/",
          "height": 269
        },
        "id": "7-DOUM5hgHS1",
        "outputId": "7ff450ac-7dae-4072-9f7e-c704abb6de70"
      },
      "source": [
        "plt.scatter(X[:, 2], X[:, 0]);"
      ],
      "execution_count": 13,
      "outputs": [
        {
          "output_type": "display_data",
          "data": {
            "image/png": "[encoded data removed]",
            "text/plain": [
              "<Figure size 432x288 with 1 Axes>"
            ]
          },
          "metadata": {
            "tags": [],
            "needs_background": "light"
          }
        }
      ]
    },
    {
      "cell_type": "code",
      "metadata": {
        "id": "EvhqFXt3gVNI"
      },
      "source": [
        "df['ones'] = 1\n",
        "Y = df['X1']\n",
        "X = df[['X2', 'X3', 'ones']]\n",
        "X2_only = df[['X2', 'ones']]\n",
        "X3_only = df[['X3', 'ones']]"
      ],
      "execution_count": 14,
      "outputs": []
    },
    {
      "cell_type": "code",
      "metadata": {
        "id": "otSM9r58g72M"
      },
      "source": [
        "def get_r2(X, Y):\n",
        "    w = np.linalg.solve(X.T.dot(X), X.T.dot(Y))\n",
        "    Yhat = X.dot(w)\n",
        "\n",
        "    d1 = Y - Yhat\n",
        "    d2 = Y - Y.mean()\n",
        "    r2 = 1 - d1.dot(d1) / d2.dot(d2)\n",
        "    return r2"
      ],
      "execution_count": 15,
      "outputs": []
    },
    {
      "cell_type": "code",
      "metadata": {
        "colab": {
          "base_uri": "https://localhost:8080/"
        },
        "id": "a4YFV1-mhrLP",
        "outputId": "524087b4-ec98-441a-9765-f5d56b5417ba"
      },
      "source": [
        "print(f\"The r_squared values for x2 only is: {get_r2(X2_only, Y)}\")\n",
        "print(f\"The r_squared values for x3 only is: {get_r2(X3_only, Y)}\")\n",
        "print(f\"The r_squared values for both x2 and x3 is: {get_r2(X, Y)}\")"
      ],
      "execution_count": 16,
      "outputs": [
        {
          "output_type": "stream",
          "text": [
            "The r_squared values for x2 only is: 0.9578407208147353\n",
            "The r_squared values for x3 only is: 0.9419952085293064\n",
            "The r_squared values for both x2 and x3 is: 0.9768471041502091\n"
          ],
          "name": "stdout"
        }
      ]
    },
    {
      "cell_type": "code",
      "metadata": {
        "id": "6j2kZfi6iRao"
      },
      "source": [
        ""
      ],
      "execution_count": null,
      "outputs": []
    }
  ]
}