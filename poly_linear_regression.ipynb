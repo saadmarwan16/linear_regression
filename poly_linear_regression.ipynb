{
  "nbformat": 4,
  "nbformat_minor": 0,
  "metadata": {
    "colab": {
      "name": "poly_linear_regression.ipynb",
      "provenance": [],
      "authorship_tag": "ABX9TyO9RcGKSJDE15uHJsySZTF9",
      "include_colab_link": true
    },
    "kernelspec": {
      "name": "python3",
      "display_name": "Python 3"
    },
    "language_info": {
      "name": "python"
    }
  },
  "cells": [
    {
      "cell_type": "markdown",
      "metadata": {
        "id": "view-in-github",
        "colab_type": "text"
      },
      "source": [
        "<a href=\"https://colab.research.google.com/github/saadmarwan16/linear_regression/blob/main/poly_linear_regression.ipynb\" target=\"_parent\"><img src=\"https://colab.research.google.com/assets/colab-badge.svg\" alt=\"Open In Colab\"/></a>"
      ]
    },
    {
      "cell_type": "code",
      "metadata": {
        "id": "wZCOZ1dBk8x_"
      },
      "source": [
        "import numpy as np\n",
        "import matplotlib.pyplot as plt"
      ],
      "execution_count": 1,
      "outputs": []
    },
    {
      "cell_type": "code",
      "metadata": {
        "id": "F1e6Qv6qlTMq"
      },
      "source": [
        "X = list()\n",
        "Y = list()"
      ],
      "execution_count": 2,
      "outputs": []
    },
    {
      "cell_type": "code",
      "metadata": {
        "id": "6N_8H41rlZwP"
      },
      "source": [
        "for line in open('data_poly.csv'):\n",
        "    x, y = line.split(',')\n",
        "    x = float(x)\n",
        "    X.append([1, x, x ** 2])\n",
        "    Y.append(float(y))"
      ],
      "execution_count": 3,
      "outputs": []
    },
    {
      "cell_type": "code",
      "metadata": {
        "id": "H17sqDcRl5wM"
      },
      "source": [
        "X = np.array(X)\n",
        "Y = np.array(Y)"
      ],
      "execution_count": 4,
      "outputs": []
    },
    {
      "cell_type": "code",
      "metadata": {
        "colab": {
          "base_uri": "https://localhost:8080/",
          "height": 265
        },
        "id": "JWeOvwVZl8b7",
        "outputId": "b2697a44-9bbf-48f6-8191-85d1c8e6780e"
      },
      "source": [
        "plt.scatter(X[:, 1], Y);"
      ],
      "execution_count": 5,
      "outputs": [
        {
          "output_type": "display_data",
          "data": {
            "image/png": "[encoded data removed]",
            "text/plain": [
              "<Figure size 432x288 with 1 Axes>"
            ]
          },
          "metadata": {
            "tags": [],
            "needs_background": "light"
          }
        }
      ]
    },
    {
      "cell_type": "code",
      "metadata": {
        "id": "kAcl1nk0mCpW"
      },
      "source": [
        "w = np.linalg.solve(np.dot(X.T, X), np.dot(X.T, Y))\n",
        "Yhat = np.dot(X, w)"
      ],
      "execution_count": 6,
      "outputs": []
    },
    {
      "cell_type": "code",
      "metadata": {
        "colab": {
          "base_uri": "https://localhost:8080/",
          "height": 265
        },
        "id": "C5fLwxADm3cF",
        "outputId": "a612e0f2-99df-4fe2-b986-df1e9d56fe65"
      },
      "source": [
        "plt.scatter(X[:, 1], Y)\n",
        "plt.plot(sorted(X[:, 1]), sorted(Yhat));"
      ],
      "execution_count": 7,
      "outputs": [
        {
          "output_type": "display_data",
          "data": {
            "image/png": "[encoded data removed]",
            "text/plain": [
              "<Figure size 432x288 with 1 Axes>"
            ]
          },
          "metadata": {
            "tags": [],
            "needs_background": "light"
          }
        }
      ]
    },
    {
      "cell_type": "code",
      "metadata": {
        "colab": {
          "base_uri": "https://localhost:8080/"
        },
        "id": "o9jNB3w3m-5c",
        "outputId": "9615052b-ed9b-4f9d-ca14-5ed5a97ba8f6"
      },
      "source": [
        "d1 = Y - Yhat\n",
        "d2 = Y - Y.mean()\n",
        "r2 = 1 - d1.dot(d1) / d2.dot(d2)\n",
        "print(f\"The r-squared value is: {r2}\")"
      ],
      "execution_count": 8,
      "outputs": [
        {
          "output_type": "stream",
          "text": [
            "The r-squared value is: 0.9991412296366858\n"
          ],
          "name": "stdout"
        }
      ]
    },
    {
      "cell_type": "code",
      "metadata": {
        "id": "4DtBF7xpnqBC"
      },
      "source": [
        ""
      ],
      "execution_count": 8,
      "outputs": []
    }
  ]
}